{
 "cells": [
  {
   "cell_type": "markdown",
   "id": "e4199655",
   "metadata": {},
   "source": [
    "## Exercises\n",
    "\n",
    "    ○ Create a variable phrase containing a list of words. Experiment with the operations described in this chapter, including addition, multiplication, indexing, slicing, and sorting.\n",
    "\n",
    "    ○ Use the corpus module to explore austen-persuasion.txt. How many word tokens does this book have? How many word types?\n",
    "\n",
    "    ○ Use the Brown Corpus reader nltk.corpus.brown.words() or the Web Text Corpus reader nltk.corpus.webtext.words() to access some sample text in two different genres.\n",
    "\n",
    "    ○ Read in the texts of the State of the Union addresses, using the state_union corpus reader. Count occurrences of men, women, and people in each document. What has happened to the usage of these words over time?\n",
    "\n",
    "    ○ Investigate the holonym-meronym relations for some nouns. Remember that there are three kinds of holonym-meronym relation, so you need to use member_meronyms(), part_meronyms(), substance_meronyms(), member_holonyms(), part_holonyms(), and substance_holonyms().\n",
    "\n",
    "    ○ In the discussion of comparative wordlists, we created an object called translate, which you could look up using words in both German and Italian in order to get corresponding words in English. What problem might arise with this approach? Can you suggest a way to avoid this problem?\n",
    "\n",
    "    ○ According to Strunk and White’s Elements of Style, the word however, used at the start of a sentence, means “in whatever way” or “to whatever extent,” and not “nevertheless.” They give this example of correct usage: However you advise him, he will probably do as he thinks best. (http://www.bartleby.com/141/strunk3.html) Use the concordance tool to study actual usage of this word in the various texts we have been considering. See also the LanguageLog posting “Fossilized prejudices about ‘however’” at http://itre.cis.upenn.edu/~myl/languagelog/archives/001913.html.\n",
    "\n",
    "    Define a conditional frequency distribution over the Names Corpus that allows you to see which initial letters are more frequent for males versus females (see Figure 2-7).\n",
    "\n",
    "    Pick a pair of texts and study the differences between them, in terms of vocabulary, vocabulary richness, genre, etc. Can you find pairs of words that have quite different meanings across the two texts, such as monstrous in Moby Dick and in Sense and Sensibility?\n",
    "\n",
    "    Read the BBC News article: “UK’s Vicky Pollards ‘left behind’” at http://news.bbc.co.uk/1/hi/education/6173441.stm. The article gives the following statistic about teen language: “the top 20 words used, including yeah, no, but and like, account for around a third of all words.” How many word types account for a third of all word tokens, for a variety of text sources? What do you conclude about this statistic? Read more about this on LanguageLog, at http://itre.cis.upenn.edu/~myl/languagelog/archives/003993.html.\n",
    "\n",
    "    Investigate the table of modal distributions and look for other patterns. Try to explain them in terms of your own impressionistic understanding of the different genres. Can you find other closed classes of words that exhibit significant differences across different genres?\n",
    "\n",
    "    The CMU Pronouncing Dictionary contains multiple pronunciations for certain words. How many distinct words does it contain? What fraction of words in this dictionary have more than one possible pronunciation?\n",
    "\n",
    "    What percentage of noun synsets have no hyponyms? You can get all noun synsets using wn.all_synsets('n').\n",
    "\n",
    "    Define a function supergloss(s) that takes a synset s as its argument and returns a string consisting of the concatenation of the definition of s, and the definitions of all the hypernyms and hyponyms of s.\n",
    "\n",
    "    Write a program to find all words that occur at least three times in the Brown Corpus.\n",
    "\n",
    "    Write a program to generate a table of lexical diversity scores (i.e., token/type ratios), as we saw in Table 1-1. Include the full set of Brown Corpus genres (nltk.corpus.brown.categories()). Which genre has the lowest diversity (greatest number of tokens per type)? Is this what you would have expected?\n",
    "\n",
    "    Write a function that finds the 50 most frequently occurring words of a text that are not stopwords.\n",
    "\n",
    "    Write a program to print the 50 most frequent bigrams (pairs of adjacent words) of a text, omitting bigrams that contain stopwords.\n",
    "\n",
    "    Write a program to create a table of word frequencies by genre, like the one given in Accessing Text Corpora for modals. Choose your own words and try to find words whose presence (or absence) is typical of a genre. Discuss your findings.\n",
    "\n",
    "    Write a function word_freq() that takes a word and the name of a section of the Brown Corpus as arguments, and computes the frequency of the word in that section of the corpus.\n",
    "\n",
    "    Write a program to guess the number of syllables contained in a text, making use of the CMU Pronouncing Dictionary.\n",
    "\n",
    "    Define a function hedge(text) that processes a text and produces a new version with the word 'like' between every third word.\n",
    "\n",
    "    ● Zipf’s Law: Let f(w) be the frequency of a word w in free text. Suppose that all the words of a text are ranked according to their frequency, with the most frequent word first. Zipf’s Law states that the frequency of a word type is inversely proportional to its rank (i.e., f × r = k, for some constant k). For example, the 50th most common word type should occur three times as frequently as the 150th most common word type.\n",
    "\n",
    "        Write a function to process a large text and plot word frequency against word rank using pylab.plot. Do you confirm Zipf’s law? (Hint: it helps to use a logarithmic scale.) What is going on at the extreme ends of the plotted line?\n",
    "\n",
    "        Generate random text, e.g., using random.choice(\"abcdefg \"), taking care to include the space character. You will need to import random first. Use the string concatenation operator to accumulate characters into a (very) long string. Then tokenize this string, generate the Zipf plot as before, and compare the two plots. What do you make of Zipf’s Law in the light of this?\n",
    "\n",
    "    ● Modify the text generation program in Example 2-1 further, to do the following tasks:\n",
    "\n",
    "        Store the n most likely words in a list words, then randomly choose a word from the list using random.choice(). (You will need to import random first.)\n",
    "\n",
    "        Select a particular genre, such as a section of the Brown Corpus or a Genesis translation, one of the Gutenberg texts, or one of the Web texts. Train the model on this corpus and get it to generate random text. You may have to experiment with different start words. How intelligible is the text? Discuss the strengths and weaknesses of this method of generating random text.\n",
    "\n",
    "        Now train your system using two distinct genres and experiment with generating text in the hybrid genre. Discuss your observations.\n",
    "\n",
    "    ● Define a function find_language() that takes a string as its argument and returns a list of languages that have that string as a word. Use the udhr corpus and limit your searches to files in the Latin-1 encoding.\n",
    "\n",
    "    ● What is the branching factor of the noun hypernym hierarchy? I.e., for every noun synset that has hyponyms—or children in the hypernym hierarchy—how many do they have on average? You can get all noun synsets using wn.all_synsets('n').\n",
    "\n",
    "    ● The polysemy of a word is the number of senses it has. Using WordNet, we can determine that the noun dog has seven senses with len(wn.synsets('dog', 'n')). Compute the average polysemy of nouns, verbs, adjectives, and adverbs according to WordNet.\n",
    "\n",
    "    ● Use one of the predefined similarity measures to score the similarity of each of the following pairs of words. Rank the pairs in order of decreasing similarity. How close is your ranking to the order given here, an order that was established experimentally by (Miller & Charles, 1998): car-automobile, gem-jewel, journey-voyage, boy-lad, coast-shore, asylum-madhouse, magician-wizard, midday-noon, furnace-stove, food-fruit, bird-cock, bird-crane, tool-implement, brother-monk, lad-brother, crane-implement, journey-car, monk-oracle, cemetery-woodland, food-rooster, coast-hill, forest-graveyard, shore-woodland, monk-slave, coast-forest, lad-wizard, chord-smile, glass-magician, rooster-voyage, noon-string."
   ]
  },
  {
   "cell_type": "code",
   "execution_count": 21,
   "id": "44561db2",
   "metadata": {},
   "outputs": [],
   "source": [
    "import nltk"
   ]
  },
  {
   "cell_type": "markdown",
   "id": "df2bd77a",
   "metadata": {},
   "source": [
    "### ○ Create a variable phrase containing a list of words. Experiment with the operations described in this chapter, including addition, multiplication, indexing, slicing, and sorting."
   ]
  },
  {
   "cell_type": "code",
   "execution_count": 1,
   "id": "4dae9f62",
   "metadata": {},
   "outputs": [],
   "source": [
    "sents = \"Use one of the predefined similarity measures to score the similarity of each of the following pairs of words. Rank the pairs in order of decreasing similarity.\"\n",
    "sents = sents.split()"
   ]
  },
  {
   "cell_type": "code",
   "execution_count": 3,
   "id": "3ac75327",
   "metadata": {},
   "outputs": [],
   "source": [
    "sent1 = sents[:5]\n",
    "sent2 = sents[5:]"
   ]
  },
  {
   "cell_type": "code",
   "execution_count": 4,
   "id": "1b7a62e9",
   "metadata": {},
   "outputs": [],
   "source": [
    "sent3 = sent1+sent2"
   ]
  },
  {
   "cell_type": "code",
   "execution_count": 8,
   "id": "abaaaa0c",
   "metadata": {},
   "outputs": [
    {
     "data": {
      "text/plain": [
       "['Rank',\n",
       " 'Use',\n",
       " 'decreasing',\n",
       " 'each',\n",
       " 'following',\n",
       " 'in',\n",
       " 'measures',\n",
       " 'of',\n",
       " 'of',\n",
       " 'of',\n",
       " 'of',\n",
       " 'of',\n",
       " 'one',\n",
       " 'order',\n",
       " 'pairs',\n",
       " 'pairs',\n",
       " 'predefined',\n",
       " 'score',\n",
       " 'similarity',\n",
       " 'similarity',\n",
       " 'similarity.',\n",
       " 'the',\n",
       " 'the',\n",
       " 'the',\n",
       " 'the',\n",
       " 'to',\n",
       " 'words.']"
      ]
     },
     "execution_count": 8,
     "metadata": {},
     "output_type": "execute_result"
    }
   ],
   "source": [
    "sent4 = sent1*3\n",
    "sorted(sent3)"
   ]
  },
  {
   "cell_type": "markdown",
   "id": "c507bc0a",
   "metadata": {},
   "source": [
    "##  ○ Use the corpus module to explore austen-persuasion.txt. How many word tokens does this book have? How many word types?\n"
   ]
  },
  {
   "cell_type": "code",
   "execution_count": 19,
   "id": "93a7b618",
   "metadata": {},
   "outputs": [],
   "source": [
    "from nltk.corpus import gutenberg\n",
    "\n",
    "austenWords = gutenberg.words('austen-persuasion.txt')"
   ]
  },
  {
   "cell_type": "markdown",
   "id": "52683c40",
   "metadata": {},
   "source": [
    "num word tokens"
   ]
  },
  {
   "cell_type": "code",
   "execution_count": 17,
   "id": "a5721862",
   "metadata": {},
   "outputs": [
    {
     "data": {
      "text/plain": [
       "98171"
      ]
     },
     "execution_count": 17,
     "metadata": {},
     "output_type": "execute_result"
    }
   ],
   "source": [
    "len(austenWords)"
   ]
  },
  {
   "cell_type": "raw",
   "id": "1ba4c0b7",
   "metadata": {},
   "source": [
    "word types"
   ]
  },
  {
   "cell_type": "code",
   "execution_count": 18,
   "id": "a99c49e8",
   "metadata": {},
   "outputs": [
    {
     "data": {
      "text/plain": [
       "6132"
      ]
     },
     "execution_count": 18,
     "metadata": {},
     "output_type": "execute_result"
    }
   ],
   "source": [
    "len(set(austenWords))"
   ]
  },
  {
   "cell_type": "markdown",
   "id": "7f1841ba",
   "metadata": {},
   "source": [
    "##     ○ Use the Brown Corpus reader nltk.corpus.brown.words() or the Web Text Corpus reader nltk.corpus.webtext.words() to access some sample text in two different genres.\n"
   ]
  },
  {
   "cell_type": "code",
   "execution_count": 24,
   "id": "cea417fc",
   "metadata": {},
   "outputs": [],
   "source": [
    "brown = nltk.corpus.brown"
   ]
  },
  {
   "cell_type": "code",
   "execution_count": 25,
   "id": "3f2fdd88",
   "metadata": {},
   "outputs": [
    {
     "data": {
      "text/plain": [
       "['adventure',\n",
       " 'belles_lettres',\n",
       " 'editorial',\n",
       " 'fiction',\n",
       " 'government',\n",
       " 'hobbies',\n",
       " 'humor',\n",
       " 'learned',\n",
       " 'lore',\n",
       " 'mystery',\n",
       " 'news',\n",
       " 'religion',\n",
       " 'reviews',\n",
       " 'romance',\n",
       " 'science_fiction']"
      ]
     },
     "execution_count": 25,
     "metadata": {},
     "output_type": "execute_result"
    }
   ],
   "source": [
    "brown.categories()"
   ]
  },
  {
   "cell_type": "markdown",
   "id": "6ef5dfaa",
   "metadata": {},
   "source": []
  }
 ],
 "metadata": {
  "kernelspec": {
   "display_name": "Python 3 (ipykernel)",
   "language": "python",
   "name": "python3"
  },
  "language_info": {
   "codemirror_mode": {
    "name": "ipython",
    "version": 3
   },
   "file_extension": ".py",
   "mimetype": "text/x-python",
   "name": "python",
   "nbconvert_exporter": "python",
   "pygments_lexer": "ipython3",
   "version": "3.11.4"
  }
 },
 "nbformat": 4,
 "nbformat_minor": 5
}
