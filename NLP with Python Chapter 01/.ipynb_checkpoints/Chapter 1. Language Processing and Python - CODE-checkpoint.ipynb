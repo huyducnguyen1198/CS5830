{
 "cells": [
  {
   "cell_type": "code",
   "execution_count": null,
   "id": "68d2d1a0",
   "metadata": {},
   "outputs": [],
   "source": [
    "import sys\n",
    "print(\"Python version:\", sys.version)"
   ]
  },
  {
   "cell_type": "code",
   "execution_count": null,
   "id": "11047758",
   "metadata": {},
   "outputs": [],
   "source": [
    "1 + 5 * 2 - 3"
   ]
  },
  {
   "cell_type": "code",
   "execution_count": null,
   "id": "558c0bbd",
   "metadata": {},
   "outputs": [],
   "source": [
    "#practice expressions"
   ]
  },
  {
   "cell_type": "code",
   "execution_count": null,
   "id": "be5997a2",
   "metadata": {},
   "outputs": [],
   "source": [
    "import nltk\n",
    "#only the first time\n",
    "#nltk.download()"
   ]
  },
  {
   "cell_type": "code",
   "execution_count": null,
   "id": "1846361c",
   "metadata": {},
   "outputs": [],
   "source": [
    "from nltk.book import *"
   ]
  },
  {
   "cell_type": "code",
   "execution_count": null,
   "id": "efb5cf45",
   "metadata": {},
   "outputs": [],
   "source": [
    "text1"
   ]
  },
  {
   "cell_type": "code",
   "execution_count": null,
   "id": "2da572df",
   "metadata": {},
   "outputs": [],
   "source": [
    "text2"
   ]
  },
  {
   "cell_type": "code",
   "execution_count": null,
   "id": "1d89d310",
   "metadata": {},
   "outputs": [],
   "source": [
    "text1.concordance(\"monstrous\")"
   ]
  },
  {
   "cell_type": "code",
   "execution_count": null,
   "id": "91ddbebf",
   "metadata": {},
   "outputs": [],
   "source": [
    "text1.similar(\"monstrous\")"
   ]
  },
  {
   "cell_type": "code",
   "execution_count": null,
   "id": "eb7cbd1a",
   "metadata": {},
   "outputs": [],
   "source": [
    "text2.similar(\"monstrous\")"
   ]
  },
  {
   "cell_type": "code",
   "execution_count": null,
   "id": "c84c9e1d",
   "metadata": {},
   "outputs": [],
   "source": [
    "text2.common_contexts([\"monstrous\", \"very\"])"
   ]
  },
  {
   "cell_type": "code",
   "execution_count": null,
   "id": "799e3397",
   "metadata": {},
   "outputs": [],
   "source": [
    "text4.dispersion_plot([\"citizens\", \"democracy\", \"freedom\", \"duties\", \"America\"])"
   ]
  },
  {
   "cell_type": "code",
   "execution_count": null,
   "id": "0930252d",
   "metadata": {},
   "outputs": [],
   "source": [
    "text3.generate()"
   ]
  },
  {
   "cell_type": "code",
   "execution_count": null,
   "id": "f5d9a985",
   "metadata": {},
   "outputs": [],
   "source": [
    "len(text3)"
   ]
  },
  {
   "cell_type": "code",
   "execution_count": null,
   "id": "93cdbe04",
   "metadata": {},
   "outputs": [],
   "source": [
    "sorted(set(text3))"
   ]
  },
  {
   "cell_type": "code",
   "execution_count": null,
   "id": "b36f99e5",
   "metadata": {},
   "outputs": [],
   "source": [
    "len(set(text3))"
   ]
  },
  {
   "cell_type": "code",
   "execution_count": null,
   "id": "a8d5bdd8",
   "metadata": {},
   "outputs": [],
   "source": [
    "from __future__ import division\n",
    "len(text3) / len(set(text3))"
   ]
  },
  {
   "cell_type": "code",
   "execution_count": null,
   "id": "e6b62d46",
   "metadata": {},
   "outputs": [],
   "source": [
    "text3.count(\"smote\")"
   ]
  },
  {
   "cell_type": "code",
   "execution_count": null,
   "id": "cd77b82c",
   "metadata": {},
   "outputs": [],
   "source": [
    "100*text4.count('a')/len(text4)"
   ]
  },
  {
   "cell_type": "code",
   "execution_count": null,
   "id": "3003a2af",
   "metadata": {},
   "outputs": [],
   "source": [
    "def lexical_diversity(text):\n",
    "    return len(text) / len(set(text))\n",
    "\n",
    "def percentage(count, total):\n",
    "    return 100 * count / total"
   ]
  },
  {
   "cell_type": "code",
   "execution_count": null,
   "id": "e436bf2a",
   "metadata": {},
   "outputs": [],
   "source": [
    "lexical_diversity(text3)"
   ]
  },
  {
   "cell_type": "code",
   "execution_count": null,
   "id": "9cf5be9c",
   "metadata": {},
   "outputs": [],
   "source": [
    "lexical_diversity(text5)"
   ]
  },
  {
   "cell_type": "code",
   "execution_count": null,
   "id": "cd6799b9",
   "metadata": {},
   "outputs": [],
   "source": [
    "percentage (4, 5)"
   ]
  },
  {
   "cell_type": "code",
   "execution_count": null,
   "id": "59bce260",
   "metadata": {},
   "outputs": [],
   "source": [
    "percentage(text4.count('a'), len(text4))"
   ]
  },
  {
   "cell_type": "code",
   "execution_count": null,
   "id": "5978f14b",
   "metadata": {},
   "outputs": [],
   "source": [
    "sent1 = ['Call', 'me', 'Ishmael', '.']\n",
    "sent1"
   ]
  },
  {
   "cell_type": "code",
   "execution_count": null,
   "id": "04c854e0",
   "metadata": {},
   "outputs": [],
   "source": [
    "sent1"
   ]
  },
  {
   "cell_type": "code",
   "execution_count": null,
   "id": "3d7dbc4c",
   "metadata": {},
   "outputs": [],
   "source": [
    "len(sent1)"
   ]
  },
  {
   "cell_type": "code",
   "execution_count": null,
   "id": "71d78561",
   "metadata": {},
   "outputs": [],
   "source": [
    "lexical_diversity(sent1)"
   ]
  },
  {
   "cell_type": "code",
   "execution_count": null,
   "id": "d4db767c",
   "metadata": {},
   "outputs": [],
   "source": [
    "sent2"
   ]
  },
  {
   "cell_type": "code",
   "execution_count": null,
   "id": "ab15ee5a",
   "metadata": {},
   "outputs": [],
   "source": [
    "sent3"
   ]
  },
  {
   "cell_type": "code",
   "execution_count": null,
   "id": "ea8b18dd",
   "metadata": {},
   "outputs": [],
   "source": [
    "['Monty', 'Python'] + ['and', 'the', 'Holy', 'Grail']"
   ]
  },
  {
   "cell_type": "code",
   "execution_count": null,
   "id": "6d173873",
   "metadata": {},
   "outputs": [],
   "source": [
    "sent4+sent1"
   ]
  },
  {
   "cell_type": "code",
   "execution_count": null,
   "id": "53ba958b",
   "metadata": {},
   "outputs": [],
   "source": [
    "sent1.append(\"Some\")"
   ]
  },
  {
   "cell_type": "code",
   "execution_count": null,
   "id": "6024242b",
   "metadata": {},
   "outputs": [],
   "source": [
    "sent1"
   ]
  },
  {
   "cell_type": "code",
   "execution_count": null,
   "id": "788c4b47",
   "metadata": {},
   "outputs": [],
   "source": [
    "text4[173]"
   ]
  },
  {
   "cell_type": "code",
   "execution_count": null,
   "id": "d6d8be37",
   "metadata": {},
   "outputs": [],
   "source": [
    "text4.index('awaken')"
   ]
  },
  {
   "cell_type": "code",
   "execution_count": null,
   "id": "233325fe",
   "metadata": {},
   "outputs": [],
   "source": [
    "text5[16715:16735]"
   ]
  },
  {
   "cell_type": "code",
   "execution_count": null,
   "id": "5c93e8b9",
   "metadata": {},
   "outputs": [],
   "source": [
    "text6[1600:1625]"
   ]
  },
  {
   "cell_type": "code",
   "execution_count": null,
   "id": "3f83be77",
   "metadata": {},
   "outputs": [],
   "source": [
    "sent = ['word1', 'word2', 'word3', 'word4', 'word5', 'word6', 'word7', 'word8', 'word9', 'word10'] "
   ]
  },
  {
   "cell_type": "code",
   "execution_count": null,
   "id": "04ad55d4",
   "metadata": {},
   "outputs": [],
   "source": [
    "sent[0]"
   ]
  },
  {
   "cell_type": "code",
   "execution_count": null,
   "id": "247f9aff",
   "metadata": {},
   "outputs": [],
   "source": [
    "sent[9]"
   ]
  },
  {
   "cell_type": "code",
   "execution_count": null,
   "id": "e27a26e7",
   "metadata": {},
   "outputs": [],
   "source": [
    "#sent[10]\n",
    "#example of error"
   ]
  },
  {
   "cell_type": "code",
   "execution_count": null,
   "id": "0494c6e1",
   "metadata": {},
   "outputs": [],
   "source": [
    "sent[5:8]"
   ]
  },
  {
   "cell_type": "code",
   "execution_count": null,
   "id": "6ddb2c72",
   "metadata": {},
   "outputs": [],
   "source": [
    "sent[5]"
   ]
  },
  {
   "cell_type": "code",
   "execution_count": null,
   "id": "7356c98d",
   "metadata": {},
   "outputs": [],
   "source": [
    "sent[6]"
   ]
  },
  {
   "cell_type": "code",
   "execution_count": null,
   "id": "938a1cad",
   "metadata": {},
   "outputs": [],
   "source": [
    "sent[7]"
   ]
  },
  {
   "cell_type": "code",
   "execution_count": null,
   "id": "7df4940a",
   "metadata": {},
   "outputs": [],
   "source": [
    "sent[:3]"
   ]
  },
  {
   "cell_type": "code",
   "execution_count": null,
   "id": "82548831",
   "metadata": {},
   "outputs": [],
   "source": [
    "text2[141525:]"
   ]
  },
  {
   "cell_type": "code",
   "execution_count": null,
   "id": "c0e64656",
   "metadata": {},
   "outputs": [],
   "source": [
    "sent[0]"
   ]
  },
  {
   "cell_type": "code",
   "execution_count": null,
   "id": "c39bc865",
   "metadata": {},
   "outputs": [],
   "source": [
    "sent[9]"
   ]
  },
  {
   "cell_type": "code",
   "execution_count": null,
   "id": "3279a143",
   "metadata": {},
   "outputs": [],
   "source": [
    "len(sent)"
   ]
  },
  {
   "cell_type": "code",
   "execution_count": null,
   "id": "f30dca18",
   "metadata": {},
   "outputs": [],
   "source": [
    "sent[1:9]"
   ]
  },
  {
   "cell_type": "code",
   "execution_count": null,
   "id": "e0c362be",
   "metadata": {},
   "outputs": [],
   "source": [
    "sent"
   ]
  },
  {
   "cell_type": "code",
   "execution_count": null,
   "id": "2e95e36b",
   "metadata": {},
   "outputs": [],
   "source": [
    "sent[9]"
   ]
  },
  {
   "cell_type": "code",
   "execution_count": null,
   "id": "3dc34048",
   "metadata": {},
   "outputs": [],
   "source": [
    "sent1 = ['Call', 'me', 'Ishmael', '.']"
   ]
  },
  {
   "cell_type": "code",
   "execution_count": null,
   "id": "0cbf9167",
   "metadata": {},
   "outputs": [],
   "source": [
    "my_sent = ['Bravely', 'bold', 'Sir', 'Robin', ',', 'rode', 'forth', 'from', 'Camelot', '.']"
   ]
  },
  {
   "cell_type": "code",
   "execution_count": null,
   "id": "0814ff25",
   "metadata": {},
   "outputs": [],
   "source": [
    "noun_phrase = my_sent[1:4]"
   ]
  },
  {
   "cell_type": "code",
   "execution_count": null,
   "id": "120f0d40",
   "metadata": {},
   "outputs": [],
   "source": [
    "noun_phrase"
   ]
  },
  {
   "cell_type": "code",
   "execution_count": null,
   "id": "bc0419da",
   "metadata": {},
   "outputs": [],
   "source": [
    "wOrDs = sorted(noun_phrase)"
   ]
  },
  {
   "cell_type": "code",
   "execution_count": null,
   "id": "0bb4f04c",
   "metadata": {},
   "outputs": [],
   "source": [
    "wOrDs"
   ]
  },
  {
   "cell_type": "code",
   "execution_count": null,
   "id": "66cf3180",
   "metadata": {},
   "outputs": [],
   "source": [
    "#not = 'Camelot'\n",
    "#error example"
   ]
  },
  {
   "cell_type": "code",
   "execution_count": null,
   "id": "b327df8c",
   "metadata": {},
   "outputs": [],
   "source": [
    "vocab = set(text1)"
   ]
  },
  {
   "cell_type": "code",
   "execution_count": null,
   "id": "7ca2f0a7",
   "metadata": {},
   "outputs": [],
   "source": [
    "vocab_size = len(vocab)"
   ]
  },
  {
   "cell_type": "code",
   "execution_count": null,
   "id": "28e94820",
   "metadata": {},
   "outputs": [],
   "source": [
    "vocab_size"
   ]
  },
  {
   "cell_type": "code",
   "execution_count": null,
   "id": "acfca631",
   "metadata": {},
   "outputs": [],
   "source": [
    "name = 'Monty'"
   ]
  },
  {
   "cell_type": "code",
   "execution_count": null,
   "id": "810be7ea",
   "metadata": {},
   "outputs": [],
   "source": [
    "name[0]"
   ]
  },
  {
   "cell_type": "code",
   "execution_count": null,
   "id": "d5083153",
   "metadata": {},
   "outputs": [],
   "source": [
    "name[:4]"
   ]
  },
  {
   "cell_type": "code",
   "execution_count": null,
   "id": "42077353",
   "metadata": {},
   "outputs": [],
   "source": [
    "name * 2"
   ]
  },
  {
   "cell_type": "code",
   "execution_count": null,
   "id": "18f5593b",
   "metadata": {},
   "outputs": [],
   "source": [
    "name + '!'"
   ]
  },
  {
   "cell_type": "code",
   "execution_count": null,
   "id": "edabd236",
   "metadata": {},
   "outputs": [],
   "source": [
    "' '.join(['Monty', 'Python'])\n",
    "'Monty Python'.split()"
   ]
  },
  {
   "cell_type": "code",
   "execution_count": null,
   "id": "db2952bb",
   "metadata": {},
   "outputs": [],
   "source": [
    "saying = ['After', 'all', 'is', 'said', 'and', 'done', 'more', 'is', 'said', 'than', 'done']"
   ]
  },
  {
   "cell_type": "code",
   "execution_count": null,
   "id": "82b39ec0",
   "metadata": {},
   "outputs": [],
   "source": [
    "tokens = set(saying)"
   ]
  },
  {
   "cell_type": "code",
   "execution_count": null,
   "id": "6e9e75cc",
   "metadata": {},
   "outputs": [],
   "source": [
    "tokens = sorted(tokens)"
   ]
  },
  {
   "cell_type": "code",
   "execution_count": null,
   "id": "61208510",
   "metadata": {},
   "outputs": [],
   "source": [
    "tokens[-2:]\n",
    "##what output do you expect here?"
   ]
  },
  {
   "cell_type": "code",
   "execution_count": null,
   "id": "e3bef6b1",
   "metadata": {},
   "outputs": [],
   "source": [
    "fdist1 = FreqDist(text1)"
   ]
  },
  {
   "cell_type": "code",
   "execution_count": null,
   "id": "6a9000c1",
   "metadata": {},
   "outputs": [],
   "source": [
    "fdist1"
   ]
  },
  {
   "cell_type": "code",
   "execution_count": null,
   "id": "39e5d0c6",
   "metadata": {},
   "outputs": [],
   "source": [
    "vocabulary1 = fdist1.keys()\n",
    "vocabulary1"
   ]
  },
  {
   "cell_type": "code",
   "execution_count": null,
   "id": "5a8f98d2",
   "metadata": {},
   "outputs": [],
   "source": [
    "#error in text - dictionaries can't be sliced, must be converted to list first\n",
    "vocabularyList = list(vocabulary1)\n",
    "vocabularyList[:50]"
   ]
  },
  {
   "cell_type": "code",
   "execution_count": null,
   "id": "f455b8a0",
   "metadata": {},
   "outputs": [],
   "source": [
    "fdist1['whale']"
   ]
  },
  {
   "cell_type": "code",
   "execution_count": null,
   "id": "68f8a370",
   "metadata": {},
   "outputs": [],
   "source": [
    "V = set(text1)"
   ]
  },
  {
   "cell_type": "code",
   "execution_count": null,
   "id": "74dc2972",
   "metadata": {},
   "outputs": [],
   "source": [
    "long_words = [w for w in V if len(w) > 15]"
   ]
  },
  {
   "cell_type": "code",
   "execution_count": null,
   "id": "b8040e58",
   "metadata": {},
   "outputs": [],
   "source": [
    "sorted(long_words)"
   ]
  },
  {
   "cell_type": "code",
   "execution_count": null,
   "id": "24919462",
   "metadata": {},
   "outputs": [],
   "source": [
    "fdist5 = FreqDist(text5)"
   ]
  },
  {
   "cell_type": "code",
   "execution_count": null,
   "id": "a64ed98b",
   "metadata": {},
   "outputs": [],
   "source": [
    "sorted([w for w in set(text5) if len(w) > 7 and fdist5[w] > 7])"
   ]
  },
  {
   "cell_type": "code",
   "execution_count": null,
   "id": "a19e594b",
   "metadata": {},
   "outputs": [],
   "source": [
    "bigrams(['more', 'is', 'said', 'than', 'done'])"
   ]
  },
  {
   "cell_type": "code",
   "execution_count": null,
   "id": "388f02da",
   "metadata": {},
   "outputs": [],
   "source": [
    "text4.collocations()"
   ]
  },
  {
   "cell_type": "code",
   "execution_count": null,
   "id": "3c708027",
   "metadata": {},
   "outputs": [],
   "source": [
    "text8.collocations()"
   ]
  },
  {
   "cell_type": "code",
   "execution_count": null,
   "id": "8ac7f1da",
   "metadata": {},
   "outputs": [],
   "source": [
    "[len(w) for w in text1]"
   ]
  },
  {
   "cell_type": "code",
   "execution_count": null,
   "id": "79436fc4",
   "metadata": {},
   "outputs": [],
   "source": [
    "fdist = FreqDist([len(w) for w in text1])"
   ]
  },
  {
   "cell_type": "code",
   "execution_count": null,
   "id": "db905d36",
   "metadata": {},
   "outputs": [],
   "source": [
    "fdist"
   ]
  },
  {
   "cell_type": "code",
   "execution_count": null,
   "id": "7a83688c",
   "metadata": {},
   "outputs": [],
   "source": [
    "fdist.keys()"
   ]
  },
  {
   "cell_type": "code",
   "execution_count": null,
   "id": "0aae4147",
   "metadata": {},
   "outputs": [],
   "source": [
    "fdist.items()"
   ]
  },
  {
   "cell_type": "code",
   "execution_count": null,
   "id": "ee671908",
   "metadata": {},
   "outputs": [],
   "source": [
    "fdist.max()"
   ]
  },
  {
   "cell_type": "code",
   "execution_count": null,
   "id": "a5acc535",
   "metadata": {},
   "outputs": [],
   "source": [
    "fdist[3]"
   ]
  },
  {
   "cell_type": "code",
   "execution_count": null,
   "id": "f973e18b",
   "metadata": {},
   "outputs": [],
   "source": [
    "fdist.freq(3)"
   ]
  },
  {
   "cell_type": "code",
   "execution_count": null,
   "id": "6188f549",
   "metadata": {},
   "outputs": [],
   "source": [
    "sent7"
   ]
  },
  {
   "cell_type": "code",
   "execution_count": null,
   "id": "f3faf3c9",
   "metadata": {},
   "outputs": [],
   "source": [
    "[w for w in sent7 if len(w) < 4]"
   ]
  },
  {
   "cell_type": "code",
   "execution_count": null,
   "id": "2e31ce1e",
   "metadata": {},
   "outputs": [],
   "source": [
    "[w for w in sent7 if len(w) <= 4]"
   ]
  },
  {
   "cell_type": "code",
   "execution_count": null,
   "id": "70373e7e",
   "metadata": {},
   "outputs": [],
   "source": [
    "[w for w in sent7 if len(w) == 4]"
   ]
  },
  {
   "cell_type": "code",
   "execution_count": null,
   "id": "d3db5387",
   "metadata": {},
   "outputs": [],
   "source": [
    "[w for w in sent7 if len(w) != 4]"
   ]
  },
  {
   "cell_type": "code",
   "execution_count": null,
   "id": "cfa10ffd",
   "metadata": {},
   "outputs": [],
   "source": [
    "sorted([w for w in set(text1) if w.endswith('ableness')])"
   ]
  },
  {
   "cell_type": "code",
   "execution_count": null,
   "id": "89a46b64",
   "metadata": {},
   "outputs": [],
   "source": [
    "sorted([term for term in set(text4) if 'gnt' in term])"
   ]
  },
  {
   "cell_type": "code",
   "execution_count": null,
   "id": "f2ae36d6",
   "metadata": {},
   "outputs": [],
   "source": [
    "sorted([item for item in set(text6) if item.istitle()])"
   ]
  },
  {
   "cell_type": "code",
   "execution_count": null,
   "id": "cccb6f0b",
   "metadata": {},
   "outputs": [],
   "source": [
    "sorted([item for item in set(sent7) if item.isdigit()])"
   ]
  },
  {
   "cell_type": "code",
   "execution_count": null,
   "id": "f44dd6b9",
   "metadata": {},
   "outputs": [],
   "source": [
    "sorted([w for w in set(text7) if '-' in w and 'index' in w])"
   ]
  },
  {
   "cell_type": "code",
   "execution_count": null,
   "id": "c7b55dc6",
   "metadata": {},
   "outputs": [],
   "source": [
    "sorted([wd for wd in set(text3) if wd.istitle() and len(wd) > 10])"
   ]
  },
  {
   "cell_type": "code",
   "execution_count": null,
   "id": "b4814c3c",
   "metadata": {},
   "outputs": [],
   "source": [
    "sorted([w for w in set(sent7) if not w.islower()])"
   ]
  },
  {
   "cell_type": "code",
   "execution_count": null,
   "id": "d5f18e8c",
   "metadata": {},
   "outputs": [],
   "source": [
    "sorted([t for t in set(text2) if 'cie' in t or 'cei' in t])"
   ]
  },
  {
   "cell_type": "code",
   "execution_count": null,
   "id": "f3aa00f4",
   "metadata": {},
   "outputs": [],
   "source": [
    "[len(w) for w in text1]"
   ]
  },
  {
   "cell_type": "code",
   "execution_count": null,
   "id": "bc2cf50b",
   "metadata": {},
   "outputs": [],
   "source": [
    "[w.upper() for w in text1]"
   ]
  },
  {
   "cell_type": "code",
   "execution_count": null,
   "id": "b28a5555",
   "metadata": {},
   "outputs": [],
   "source": [
    "len(text1)"
   ]
  },
  {
   "cell_type": "code",
   "execution_count": null,
   "id": "c4822c67",
   "metadata": {},
   "outputs": [],
   "source": [
    "len(set(text1))"
   ]
  },
  {
   "cell_type": "code",
   "execution_count": null,
   "id": "7efc6757",
   "metadata": {},
   "outputs": [],
   "source": [
    "len(set([word.lower() for word in text1]))"
   ]
  },
  {
   "cell_type": "code",
   "execution_count": null,
   "id": "110055fe",
   "metadata": {},
   "outputs": [],
   "source": [
    "len(set([word.lower() for word in text1 if word.isalpha()]))"
   ]
  },
  {
   "cell_type": "code",
   "execution_count": null,
   "id": "6b850621",
   "metadata": {},
   "outputs": [],
   "source": [
    "word = 'cat'"
   ]
  },
  {
   "cell_type": "code",
   "execution_count": null,
   "id": "f6cb5cc2",
   "metadata": {},
   "outputs": [],
   "source": [
    "if len(word) < 5:\n",
    "    print('word length is less than 5')"
   ]
  },
  {
   "cell_type": "code",
   "execution_count": null,
   "id": "808d0823",
   "metadata": {},
   "outputs": [],
   "source": [
    "if len(word) >= 5:\n",
    "    print('word length is greater than or equal to 5')"
   ]
  },
  {
   "cell_type": "code",
   "execution_count": null,
   "id": "6a6b7f0c",
   "metadata": {},
   "outputs": [],
   "source": [
    "for word in ['Call', 'me', 'Ishmael', '.']:\n",
    "    print(word)"
   ]
  },
  {
   "cell_type": "code",
   "execution_count": null,
   "id": "e70fc4fd",
   "metadata": {},
   "outputs": [],
   "source": [
    "sent1 = ['Call', 'me', 'Ishmael', '.']"
   ]
  },
  {
   "cell_type": "code",
   "execution_count": null,
   "id": "11d7dbc8",
   "metadata": {},
   "outputs": [],
   "source": [
    "for xyzzy in sent1:\n",
    "    if xyzzy.endswith('l'):\n",
    "        print(xyzzy)"
   ]
  },
  {
   "cell_type": "code",
   "execution_count": null,
   "id": "df93e4e2",
   "metadata": {},
   "outputs": [],
   "source": [
    "for token in sent1:\n",
    "    if token.islower():\n",
    "        print(token, 'is a lowercase word')\n",
    "    elif token.istitle():\n",
    "        print(token, 'is a titlecase word')\n",
    "    else:\n",
    "        print(token, 'is punctuation')"
   ]
  },
  {
   "cell_type": "code",
   "execution_count": null,
   "id": "6689d8ef",
   "metadata": {},
   "outputs": [],
   "source": [
    "tricky = sorted([w for w in set(text2) if 'cie' in w or 'cei' in w])"
   ]
  },
  {
   "cell_type": "code",
   "execution_count": null,
   "id": "b6519692",
   "metadata": {},
   "outputs": [],
   "source": [
    "for word in tricky:\n",
    "    print(word)"
   ]
  },
  {
   "cell_type": "code",
   "execution_count": null,
   "id": "dbd3aa87",
   "metadata": {},
   "outputs": [],
   "source": [
    "#babelfish service no longer running\n",
    "#babelfish must be run in Terminal\n",
    "#babelize_shell()"
   ]
  },
  {
   "cell_type": "code",
   "execution_count": null,
   "id": "9831fcac",
   "metadata": {},
   "outputs": [],
   "source": []
  }
 ],
 "metadata": {
  "kernelspec": {
   "display_name": "Python 3 (ipykernel)",
   "language": "python",
   "name": "python3"
  },
  "language_info": {
   "codemirror_mode": {
    "name": "ipython",
    "version": 3
   },
   "file_extension": ".py",
   "mimetype": "text/x-python",
   "name": "python",
   "nbconvert_exporter": "python",
   "pygments_lexer": "ipython3",
   "version": "3.11.5"
  }
 },
 "nbformat": 4,
 "nbformat_minor": 5
}
